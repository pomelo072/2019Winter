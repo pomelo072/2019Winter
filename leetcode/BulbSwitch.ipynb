{
 "cells": [
  {
   "cell_type": "markdown",
   "metadata": {},
   "source": [
    "# 灯泡开关"
   ]
  },
  {
   "cell_type": "markdown",
   "metadata": {},
   "source": [
    "## 题目\n",
    "> 初始时有 n 个灯泡关闭。 第 1 轮，你打开所有的灯泡。 第 2 轮，每两个灯泡你关闭一次。 第 3 轮，每三个灯泡切换一次开关（如果关闭则开启，如果开启则关闭）。第 i 轮，每 i 个灯泡切换一次开关。 对于第 n 轮，你只切换最后一个灯泡的开关。 找出 n 轮后有多少个亮着的灯泡。\n",
    "> \n",
    "> 示例:\n",
    "> \n",
    "> 输入: 3\n",
    "> \n",
    "> 输出: 1\n",
    "> \n",
    "> 解释:\n",
    "> \n",
    "> 初始时, 灯泡状态 \\[关闭, 关闭, 关闭\\].\n",
    "> \n",
    "> 第一轮后, 灯泡状态 \\[开启, 开启, 开启\\].\n",
    "> \n",
    "> 第二轮后, 灯泡状态 \\[开启, 关闭, 开启\\].\n",
    ">\n",
    "> 第三轮后, 灯泡状态 \\[开启, 关闭, 关闭\\]. \n",
    "> \n",
    "> 你应该返回 1，因为只有一个灯泡还亮着。\n"
   ]
  },
  {
   "cell_type": "markdown",
   "metadata": {},
   "source": [
    "## 题解"
   ]
  },
  {
   "cell_type": "code",
   "execution_count": 2,
   "metadata": {},
   "outputs": [
    {
     "name": "stdout",
     "output_type": "stream",
     "text": [
      "1\n",
      "999\n"
     ]
    }
   ],
   "source": [
    "import math\n",
    "\n",
    "\n",
    "class Solution:\n",
    "    def bulbSwitch(self, n: int) -> int:\n",
    "        return int(math.sqrt(n))\n",
    "    \n",
    "if __name__ == \"__main__\":\n",
    "    so = Solution()\n",
    "    print(so.bulbSwitch(3))\n",
    "    print(so.bulbSwitch(999999))"
   ]
  },
  {
   "cell_type": "markdown",
   "metadata": {},
   "source": [
    "## 思路\n",
    "\n",
    "1. 第n个灯泡从第一次操作至最后一次共有i次操作。\n",
    "2. 被操作次数等于其约数次数。\n",
    "3. 如果灯是亮着的，则拥有奇数个约数。\n",
    "4. 一个数如果是有奇数个约数，则这个数一定是完全平方数。\n",
    "5. 1-n中是完全平方数个数为：`sqrt(n)`"
   ]
  }
 ],
 "metadata": {
  "kernelspec": {
   "display_name": "Python 3",
   "language": "python",
   "name": "python3"
  },
  "language_info": {
   "codemirror_mode": {
    "name": "ipython",
    "version": 3
   },
   "file_extension": ".py",
   "mimetype": "text/x-python",
   "name": "python",
   "nbconvert_exporter": "python",
   "pygments_lexer": "ipython3",
   "version": "3.7.4"
  }
 },
 "nbformat": 4,
 "nbformat_minor": 4
}
