{
 "cells": [
  {
   "cell_type": "markdown",
   "metadata": {},
   "source": [
    "# 各位相加"
   ]
  },
  {
   "cell_type": "markdown",
   "metadata": {},
   "source": [
    "## 题目\n",
    "> 给定一个非负整数 num，反复将各个位上的数字相加，直到结果为一位数。\n",
    "> \n",
    "> 示例:\n",
    "> \n",
    "> 输入: 38\n",
    "> \n",
    "> 输出: 2\n",
    "> \n",
    "> 解释: 各位相加的过程为：3 + 8 = 11, 1 + 1 = 2。 由于 2 是一位数，所以返回 2。\n",
    "> \n",
    "> 进阶:\n",
    "> 你可以不使用循环或者递归，且在 O(1) 时间复杂度内解决这个问题吗？"
   ]
  },
  {
   "cell_type": "markdown",
   "metadata": {},
   "source": [
    "## 题解"
   ]
  },
  {
   "cell_type": "code",
   "execution_count": 2,
   "metadata": {},
   "outputs": [
    {
     "name": "stdout",
     "output_type": "stream",
     "text": [
      "1\n"
     ]
    }
   ],
   "source": [
    "class Solution:\n",
    "    def addDigits(self, num: int) -> int:\n",
    "        if num == 0:\n",
    "            return 0\n",
    "        if num % 9 == 0:\n",
    "            return 9\n",
    "        else:\n",
    "            return num % 9\n",
    "if __name__ == \"__main__\":\n",
    "    so = Solution()\n",
    "    print(so.addDigits(199))"
   ]
  },
  {
   "cell_type": "markdown",
   "metadata": {},
   "source": [
    "## 思路\n",
    "\n",
    "1. 假设有F(N)， 则F(199) = （100 - 1） + （100 - 1）+ 1，F(123) = （100 - 1）+（10 - 1）+（10 - 1）+ 5\n",
    "2. 则F(199) = 99 * 2 + 1 = 9 * 22 + 1， F(123) = 99 + 9 * 2 + 5 = 9 * 13 + 5\n",
    "3. 由此可得F(N % 9 != 0) = 9 * m + C, F(N % 9 == 0) = 9 * m\n",
    "4. 所以addDigits(N % 9 != 0): return num % 9, addDigits(N % 9 == 0): return 9"
   ]
  }
 ],
 "metadata": {
  "kernelspec": {
   "display_name": "Python 3",
   "language": "python",
   "name": "python3"
  },
  "language_info": {
   "codemirror_mode": {
    "name": "ipython",
    "version": 3
   },
   "file_extension": ".py",
   "mimetype": "text/x-python",
   "name": "python",
   "nbconvert_exporter": "python",
   "pygments_lexer": "ipython3",
   "version": "3.7.4"
  }
 },
 "nbformat": 4,
 "nbformat_minor": 4
}
