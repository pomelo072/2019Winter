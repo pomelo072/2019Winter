{
 "cells": [
  {
   "cell_type": "markdown",
   "metadata": {},
   "source": [
    "# 279.完全平方数"
   ]
  },
  {
   "cell_type": "markdown",
   "metadata": {},
   "source": [
    "## 题目\n",
    "\n",
    "> 给定正整数 n，找到若干个完全平方数（比如 1, 4, 9, 16, ...）使得它们的和等于 n。你需要让组成和的完全平方数的个数最少。\n",
    "> \n",
    ">> 示例 1:\n",
    ">> \n",
    ">> 输入: n = 12\n",
    ">> \n",
    ">> 输出: 3\n",
    ">> \n",
    ">> 解释: 12 = 4 + 4 + 4.\n",
    ">> \n",
    ">> 示例 2:\n",
    ">> \n",
    ">> 输入: n = 13\n",
    ">>  \n",
    ">> 输出: 2\n",
    ">> \n",
    ">> 解释: 13 = 4 + 9."
   ]
  },
  {
   "cell_type": "markdown",
   "metadata": {},
   "source": [
    "## 题解\n",
    "\n",
    "1. "
   ]
  },
  {
   "cell_type": "code",
   "execution_count": 3,
   "metadata": {},
   "outputs": [
    {
     "name": "stdout",
     "output_type": "stream",
     "text": [
      "-1\n",
      "-1\n"
     ]
    }
   ],
   "source": [
    "class node:\n",
    "    def __init__(self, value, step = 0):\n",
    "        self.value = value\n",
    "        self.step = step\n",
    "    \n",
    "    \n",
    "    def __str__(self):\n",
    "        return '<value:{}, step:{}>'.format(self.value, self.step)\n",
    "    \n",
    "\n",
    "class Solution:\n",
    "    def numSquares(self, n: int) -> int:\n",
    "        queue = [node(n)]\n",
    "        visited = set([node(n).value])\n",
    "        \n",
    "        while queue:\n",
    "            vertex = queue.pop(0)\n",
    "            residuals = [vertex.value - n * n for n in range(1, int(vertex.value**.5)+1)]\n",
    "            for i in residuals:\n",
    "                new_vertex = node(i, vertex.step + 1)\n",
    "                if i == 0:\n",
    "                    return new_vertex.step\n",
    "                elif i not in visited:\n",
    "                    queue.append(new_vertex)\n",
    "                    visited.add(i)\n",
    "                    return -1\n",
    "                \n",
    "                \n",
    "if __name__ == \"__main__\":\n",
    "    so = Solution()\n",
    "    print(so.numSquares(12))\n",
    "    print(so.numSquares(13))"
   ]
  },
  {
   "cell_type": "markdown",
   "metadata": {},
   "source": [
    "2. "
   ]
  },
  {
   "cell_type": "code",
   "execution_count": 4,
   "metadata": {},
   "outputs": [
    {
     "name": "stdout",
     "output_type": "stream",
     "text": [
      "3\n",
      "2\n"
     ]
    }
   ],
   "source": [
    "class Solution:\n",
    "    def numSquares(self, n: int) -> int:\n",
    "        dp = [i for i in range(n+1)]\n",
    "        for i in range(2, n+1):\n",
    "            for j in range(1, int(i**(0.5))+1):\n",
    "                dp[i] = min(dp[i], dp[i - j*j] + 1)\n",
    "        return dp[-1]\n",
    "    \n",
    "\n",
    "if __name__ == \"__main__\":\n",
    "    so = Solution()\n",
    "    print(so.numSquares(12))\n",
    "    print(so.numSquares(13))"
   ]
  },
  {
   "cell_type": "markdown",
   "metadata": {},
   "source": [
    "## 思路\n",
    "**动态规划+广度优先遍历**\n",
    "\n",
    "\n",
    "写屁,drl"
   ]
  },
  {
   "cell_type": "code",
   "execution_count": null,
   "metadata": {},
   "outputs": [],
   "source": []
  }
 ],
 "metadata": {
  "kernelspec": {
   "display_name": "Python 3",
   "language": "python",
   "name": "python3"
  },
  "language_info": {
   "codemirror_mode": {
    "name": "ipython",
    "version": 3
   },
   "file_extension": ".py",
   "mimetype": "text/x-python",
   "name": "python",
   "nbconvert_exporter": "python",
   "pygments_lexer": "ipython3",
   "version": "3.7.4"
  }
 },
 "nbformat": 4,
 "nbformat_minor": 4
}
