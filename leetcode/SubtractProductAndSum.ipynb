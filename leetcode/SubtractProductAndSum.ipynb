{
 "cells": [
  {
   "cell_type": "markdown",
   "metadata": {},
   "source": [
    "# 整数的各位积和之差"
   ]
  },
  {
   "cell_type": "markdown",
   "metadata": {},
   "source": [
    "## 题目\n",
    "\n",
    "给你一个整数 n，请你帮忙计算并返回该整数「各位数字之积」与「各位数字之和」的差。\n",
    "> 示例 1：\n",
    "> \n",
    "> 输入：n = 234 \n",
    "> 输出：15  \n",
    "> 解释： \n",
    "> 各位数之积 = 2 * 3 * 4 = 24  \n",
    "> 各位数之和 = 2 + 3 + 4 = 9  \n",
    "> 结果 = 24 - 9 = 15"
   ]
  },
  {
   "cell_type": "markdown",
   "metadata": {},
   "source": [
    "## 题解"
   ]
  },
  {
   "cell_type": "code",
   "execution_count": 3,
   "metadata": {},
   "outputs": [
    {
     "name": "stdout",
     "output_type": "stream",
     "text": [
      "15\n"
     ]
    }
   ],
   "source": [
    "class Solution:\n",
    "    def subtractProductAndSum(self, n: int) -> int:\n",
    "        add = 0\n",
    "        mul = 1\n",
    "        while n > 0:\n",
    "            var = n % 10\n",
    "            n //= 10\n",
    "            add += var\n",
    "            mul *= var\n",
    "        return mul - add\n",
    "    \n",
    "if __name__ == \"__main__\":\n",
    "    so = Solution()\n",
    "    print(so.subtractProductAndSum(234))"
   ]
  },
  {
   "cell_type": "markdown",
   "metadata": {},
   "source": [
    "## 解题思路\n",
    "\n",
    "1. 使用循环取余取出数字。\n",
    "2. 累加"
   ]
  }
 ],
 "metadata": {
  "kernelspec": {
   "display_name": "Python 3",
   "language": "python",
   "name": "python3"
  },
  "language_info": {
   "codemirror_mode": {
    "name": "ipython",
    "version": 3
   },
   "file_extension": ".py",
   "mimetype": "text/x-python",
   "name": "python",
   "nbconvert_exporter": "python",
   "pygments_lexer": "ipython3",
   "version": "3.7.4"
  }
 },
 "nbformat": 4,
 "nbformat_minor": 4
}
