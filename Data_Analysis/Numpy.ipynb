{
 "cells": [
  {
   "cell_type": "markdown",
   "metadata": {},
   "source": [
    "# Numpy\n",
    "\n",
    "## 创建ndarray多维数组\n",
    "\n",
    "|属性|说明|\n",
    "|:--:|:--:|\n",
    "|ndim|返回int。表示数组的维数|\n",
    "|shape|返回tuple。表示数组的尺寸(n, m), n行m列的矩阵|\n",
    "|size|返回int。表示数组的元素总数。shape的乘积|\n",
    "|dtype|返回data-type。描述数组中元素的类型|\n",
    "|itemsize|返回int。表示数组每个元素的大小|\n",
    "\n",
    "创建： `numpy.array(object, dtype = None, copy = True, order = 'K', subok = False, ndmin = 0)`\n",
    "\n",
    "|参数名称|说明|\n",
    "|:--:|:--:|\n",
    "|object|接受array。表示想要创建的数组|\n",
    "|dtype|接受data-type。表示数组所需的数据类型。如果未给定，则为最小|\n",
    "|ndmin|接受int。指定数组具有的最小维数|\n",
    "\n"
   ]
  },
  {
   "cell_type": "markdown",
   "metadata": {},
   "source": [
    "- 用`reshape`改变数组形状"
   ]
  },
  {
   "cell_type": "code",
   "execution_count": 17,
   "metadata": {},
   "outputs": [
    {
     "name": "stdout",
     "output_type": "stream",
     "text": [
      "[[1 2]\n",
      " [3 1]\n",
      " [2 4]]\n"
     ]
    }
   ],
   "source": [
    "import numpy as np\n",
    "a = np.array([[1, 2, 3],[1, 2, 4]])\n",
    "a.size\n",
    "a.shape\n",
    "a.ndim\n",
    "a.dtype\n",
    "a.itemsize\n",
    "a.shape = 3, 2\n",
    "print(a)"
   ]
  },
  {
   "cell_type": "markdown",
   "metadata": {},
   "source": [
    "### arange函数创建数组"
   ]
  },
  {
   "cell_type": "code",
   "execution_count": 19,
   "metadata": {},
   "outputs": [
    {
     "data": {
      "text/plain": [
       "array([0, 1, 2, 3, 4, 5, 6, 7, 8, 9])"
      ]
     },
     "execution_count": 19,
     "metadata": {},
     "output_type": "execute_result"
    }
   ],
   "source": [
    "np.arange(10)"
   ]
  },
  {
   "cell_type": "markdown",
   "metadata": {},
   "source": [
    "### linspace函数创建数组\n",
    "\n",
    "- 等差数列"
   ]
  },
  {
   "cell_type": "code",
   "execution_count": 21,
   "metadata": {},
   "outputs": [
    {
     "data": {
      "text/plain": [
       "array([ 0.        ,  1.11111111,  2.22222222,  3.33333333,  4.44444444,\n",
       "        5.55555556,  6.66666667,  7.77777778,  8.88888889, 10.        ])"
      ]
     },
     "execution_count": 21,
     "metadata": {},
     "output_type": "execute_result"
    }
   ],
   "source": [
    "np.linspace(0, 10, 10)"
   ]
  },
  {
   "cell_type": "markdown",
   "metadata": {},
   "source": [
    "### logspace函数创建数组\n",
    "\n",
    "- 等比数列"
   ]
  },
  {
   "cell_type": "code",
   "execution_count": 25,
   "metadata": {},
   "outputs": [
    {
     "data": {
      "text/plain": [
       "array([  1.,   2.,   4.,   8.,  16.,  32.,  64., 128., 256., 512.])"
      ]
     },
     "execution_count": 25,
     "metadata": {},
     "output_type": "execute_result"
    }
   ],
   "source": [
    "np.logspace(0, 10, 10, endpoint=False, base=2)"
   ]
  },
  {
   "cell_type": "markdown",
   "metadata": {},
   "source": [
    "### zeros函数创建全零数组"
   ]
  },
  {
   "cell_type": "code",
   "execution_count": 26,
   "metadata": {},
   "outputs": [
    {
     "data": {
      "text/plain": [
       "array([[0., 0., 0., 0.],\n",
       "       [0., 0., 0., 0.],\n",
       "       [0., 0., 0., 0.]])"
      ]
     },
     "execution_count": 26,
     "metadata": {},
     "output_type": "execute_result"
    }
   ],
   "source": [
    "np.zeros((3, 4))"
   ]
  },
  {
   "cell_type": "markdown",
   "metadata": {},
   "source": [
    "### eye函数创建单位矩阵"
   ]
  },
  {
   "cell_type": "code",
   "execution_count": 27,
   "metadata": {},
   "outputs": [
    {
     "data": {
      "text/plain": [
       "array([[1., 0., 0., 0., 0.],\n",
       "       [0., 1., 0., 0., 0.],\n",
       "       [0., 0., 1., 0., 0.],\n",
       "       [0., 0., 0., 1., 0.],\n",
       "       [0., 0., 0., 0., 1.]])"
      ]
     },
     "execution_count": 27,
     "metadata": {},
     "output_type": "execute_result"
    }
   ],
   "source": [
    "np.eye(5)"
   ]
  },
  {
   "cell_type": "markdown",
   "metadata": {},
   "source": [
    "### diag函数创建对角线数组"
   ]
  },
  {
   "cell_type": "code",
   "execution_count": 28,
   "metadata": {},
   "outputs": [
    {
     "data": {
      "text/plain": [
       "array([[1, 0, 0],\n",
       "       [0, 2, 0],\n",
       "       [0, 0, 3]])"
      ]
     },
     "execution_count": 28,
     "metadata": {},
     "output_type": "execute_result"
    }
   ],
   "source": [
    "np.diag([1, 2, 3])"
   ]
  },
  {
   "cell_type": "markdown",
   "metadata": {},
   "source": [
    "### 使用ones函数创建全1数组"
   ]
  },
  {
   "cell_type": "code",
   "execution_count": 29,
   "metadata": {},
   "outputs": [
    {
     "data": {
      "text/plain": [
       "array([[1., 1.],\n",
       "       [1., 1.],\n",
       "       [1., 1.]])"
      ]
     },
     "execution_count": 29,
     "metadata": {},
     "output_type": "execute_result"
    }
   ],
   "source": [
    "np.ones((3,2))"
   ]
  },
  {
   "cell_type": "markdown",
   "metadata": {},
   "source": [
    "### 数据类型转换"
   ]
  },
  {
   "cell_type": "code",
   "execution_count": 30,
   "metadata": {},
   "outputs": [
    {
     "data": {
      "text/plain": [
       "17.0"
      ]
     },
     "execution_count": 30,
     "metadata": {},
     "output_type": "execute_result"
    }
   ],
   "source": [
    "np.float32(17)"
   ]
  },
  {
   "cell_type": "markdown",
   "metadata": {},
   "source": [
    "## 生成随机数"
   ]
  },
  {
   "cell_type": "markdown",
   "metadata": {},
   "source": [
    "### 无约数条件下生成随机数"
   ]
  },
  {
   "cell_type": "code",
   "execution_count": 32,
   "metadata": {},
   "outputs": [
    {
     "data": {
      "text/plain": [
       "array([0.04432497, 0.79281113, 0.95991813, 0.83350089, 0.35351659,\n",
       "       0.85744125, 0.91077652, 0.9883447 , 0.96750121, 0.16530764])"
      ]
     },
     "execution_count": 32,
     "metadata": {},
     "output_type": "execute_result"
    }
   ],
   "source": [
    "np.random.random(10) # 0-1的随机数"
   ]
  },
  {
   "cell_type": "markdown",
   "metadata": {},
   "source": [
    "### 生成服从均匀分布的随机数"
   ]
  },
  {
   "cell_type": "code",
   "execution_count": 34,
   "metadata": {},
   "outputs": [
    {
     "data": {
      "text/plain": [
       "array([[0.78005443, 0.70226363, 0.50596482, 0.37395834, 0.71283069],\n",
       "       [0.7040831 , 0.31902719, 0.94682194, 0.30413788, 0.09177402]])"
      ]
     },
     "execution_count": 34,
     "metadata": {},
     "output_type": "execute_result"
    }
   ],
   "source": [
    "np.random.rand(2, 5)"
   ]
  },
  {
   "cell_type": "markdown",
   "metadata": {},
   "source": [
    "### 生成服从正态分布的随机数"
   ]
  },
  {
   "cell_type": "code",
   "execution_count": 36,
   "metadata": {},
   "outputs": [
    {
     "data": {
      "text/plain": [
       "array([[-2.36958768,  1.01005526,  0.45521447, -0.24496107,  0.73156815],\n",
       "       [-0.87959129, -0.93689153, -0.46016613, -0.18664932,  0.92466233]])"
      ]
     },
     "execution_count": 36,
     "metadata": {},
     "output_type": "execute_result"
    }
   ],
   "source": [
    "np.random.randn(2,5)"
   ]
  },
  {
   "cell_type": "markdown",
   "metadata": {},
   "source": [
    "### 生成给定上下范围的随机数"
   ]
  },
  {
   "cell_type": "code",
   "execution_count": 45,
   "metadata": {},
   "outputs": [
    {
     "data": {
      "text/plain": [
       "array([[4, 3, 3],\n",
       "       [4, 3, 2]])"
      ]
     },
     "execution_count": 45,
     "metadata": {},
     "output_type": "execute_result"
    }
   ],
   "source": [
    "np.random.randint(low = 2, high = 5, size = [2,3])"
   ]
  },
  {
   "cell_type": "markdown",
   "metadata": {},
   "source": [
    "|函数|说明|\n",
    "|:--:|:--:|\n",
    "|seed|确定生成随机数的种子|\n",
    "|permutation|返回一个序列的随机排列|\n",
    "|shuffle|对一个序列进行随机排序|\n",
    "|binomial|产生二项分布的随机数|\n",
    "|beta|产生beta分布的随机数|\n",
    "|chisquare|产生卡方分布的随机数|\n",
    "|gamma|产生gamma分布的随机数|\n",
    "|uniform|产生在`[0,1)`中均匀分布的随机数| "
   ]
  },
  {
   "cell_type": "markdown",
   "metadata": {},
   "source": [
    "## 通过索引访问数组"
   ]
  },
  {
   "cell_type": "markdown",
   "metadata": {},
   "source": [
    "- 一维数组同list索引\n",
    "- 多维数组用逗号隔开，或者用布尔数组"
   ]
  },
  {
   "cell_type": "code",
   "execution_count": 47,
   "metadata": {},
   "outputs": [
    {
     "name": "stdout",
     "output_type": "stream",
     "text": [
      "[1 2]\n"
     ]
    }
   ],
   "source": [
    "print(a[0,0:2])"
   ]
  },
  {
   "cell_type": "markdown",
   "metadata": {},
   "source": [
    "## 改变数组形态"
   ]
  },
  {
   "cell_type": "markdown",
   "metadata": {},
   "source": [
    "- 使用reshape函数改变数组形状\n",
    "- 使用ravel函数展平数组\n",
    "- 使用flatten函数展平数组"
   ]
  },
  {
   "cell_type": "code",
   "execution_count": 54,
   "metadata": {},
   "outputs": [
    {
     "data": {
      "text/plain": [
       "array([1, 2, 3, 1, 2, 4])"
      ]
     },
     "execution_count": 54,
     "metadata": {},
     "output_type": "execute_result"
    }
   ],
   "source": [
    "a.reshape(2,3)\n",
    "a.ravel()\n",
    "a.flatten()"
   ]
  },
  {
   "cell_type": "markdown",
   "metadata": {},
   "source": [
    "### 组合数组\n",
    "\n",
    "- 使用hstack函数横向组合数组\n",
    "- 使用vstack函数纵向组合数组\n",
    "- 使用concatenate函数实现数组组合，axis=1横向，axis=0纵向"
   ]
  },
  {
   "cell_type": "code",
   "execution_count": 62,
   "metadata": {},
   "outputs": [
    {
     "data": {
      "text/plain": [
       "array([[1, 2, 3, 0, 0, 0],\n",
       "       [4, 5, 6, 9, 9, 9]])"
      ]
     },
     "execution_count": 62,
     "metadata": {},
     "output_type": "execute_result"
    }
   ],
   "source": [
    "a = np.array([[1,2,3],[4,5,6]])\n",
    "b = np.array([[0,0,0],[9,9,9]])\n",
    "np.hstack((a,b))\n",
    "np.vstack((a,b))\n",
    "np.concatenate((a,b),axis= 1)"
   ]
  },
  {
   "cell_type": "markdown",
   "metadata": {},
   "source": [
    "### 切割数组\n",
    "\n",
    "- 使用hsplit横向切割\n",
    "- 使用vsplit纵向切割\n",
    "- 使用split切割，axis=1横向，axis=0纵向"
   ]
  },
  {
   "cell_type": "code",
   "execution_count": 66,
   "metadata": {},
   "outputs": [
    {
     "data": {
      "text/plain": [
       "[array([[1, 2, 3]]), array([[4, 5, 6]])]"
      ]
     },
     "execution_count": 66,
     "metadata": {},
     "output_type": "execute_result"
    }
   ],
   "source": [
    "np.hsplit(a,1)\n",
    "np.vsplit(a,2)\n",
    "np.split(a,2,axis=0)"
   ]
  },
  {
   "cell_type": "markdown",
   "metadata": {},
   "source": [
    "---"
   ]
  },
  {
   "cell_type": "markdown",
   "metadata": {},
   "source": [
    "## 矩阵和通用函数"
   ]
  },
  {
   "cell_type": "markdown",
   "metadata": {},
   "source": [
    "### 创建与组合矩阵\n",
    "\n",
    "- 使用mat函数创建矩阵\n",
    "- 使用matrix函数创建矩阵\n",
    "- 使用bmat函数合成矩阵"
   ]
  },
  {
   "cell_type": "code",
   "execution_count": 15,
   "metadata": {},
   "outputs": [
    {
     "data": {
      "text/plain": [
       "matrix([[1, 2, 3, 2, 3, 4],\n",
       "        [4, 5, 6, 5, 6, 7],\n",
       "        [2, 3, 4, 1, 2, 3],\n",
       "        [5, 6, 7, 4, 5, 6]])"
      ]
     },
     "execution_count": 15,
     "metadata": {},
     "output_type": "execute_result"
    }
   ],
   "source": [
    "import numpy as np\n",
    "matr1 = np.mat([[1,2,3],[4,5,6]])\n",
    "matr2 = np.matrix([[2,3,4],[5,6,7]])\n",
    "np.bmat('matr1 matr2; matr2 matr1')"
   ]
  },
  {
   "cell_type": "markdown",
   "metadata": {},
   "source": [
    "### 矩阵的运算\n",
    "\n",
    "- 矩阵与数相乘\n",
    "- 矩阵相加减\n",
    "- 矩阵相乘\n",
    "- 矩阵对应元素相乘: np.multiply\n",
    "- 矩阵特有属性：\n",
    "\n",
    "|属性|说明|\n",
    "|:--:|:--:|\n",
    "|T|返回自身的转置|\n",
    "|H|返回自身的共轭转置|\n",
    "|I|返回自身的逆矩阵|\n",
    "|A|返回自身数据的2维数组的一个视图|"
   ]
  },
  {
   "cell_type": "code",
   "execution_count": 23,
   "metadata": {},
   "outputs": [
    {
     "data": {
      "text/plain": [
       "matrix([[-2. ,  1. ],\n",
       "        [ 1.5, -0.5]])"
      ]
     },
     "execution_count": 23,
     "metadata": {},
     "output_type": "execute_result"
    }
   ],
   "source": [
    "a = np.matrix([[1,2],[3,4]])\n",
    "b = np.matrix([[1,1],[1,1]])\n",
    "a * 3\n",
    "a + b\n",
    "a * b\n",
    "np.multiply(a,b)\n",
    "a.I"
   ]
  },
  {
   "cell_type": "markdown",
   "metadata": {},
   "source": [
    "### ufunc函数\n",
    "\n",
    "#### 对所有元素进行操作\n",
    "\n",
    "- 四则运算：对应元素进行四则运算，形状必须相同。`+` `-` `*` `/` `**`\n",
    "- 比较运算：对应元素进行比较，返回bool数组\n",
    "- 逻辑运算：`np.any`表示逻辑“or”，`np.all`表示逻辑“and”，返回bool值。\n",
    "\n",
    "#### ufunc函数的广播机制\n",
    "\n",
    "- 让所有输入数组都像shape最长的数组看齐，不足的部分通过在前面加1补齐。\n",
    "- 输出数组的shape是输入数组shape的各个轴上的最大值。\n",
    "- 如果输入数组的某个轴和输出数组对应轴的长度相等或者其长度为1时，这个数组可盈用来运算，否则出错。\n",
    "- 当输入数组的某个轴为1时，沿着此轴运算时都用此轴上的第一组值。\n"
   ]
  },
  {
   "cell_type": "code",
   "execution_count": 27,
   "metadata": {},
   "outputs": [
    {
     "data": {
      "text/plain": [
       "array([[1, 1, 1],\n",
       "       [3, 3, 3],\n",
       "       [5, 5, 5],\n",
       "       [7, 7, 7]])"
      ]
     },
     "execution_count": 27,
     "metadata": {},
     "output_type": "execute_result"
    }
   ],
   "source": [
    "a = [[0]*3,[1]*3,[2]*3,[3]*3]\n",
    "np.array(a) + np.array([1,2,3])\n",
    "np.array(a) + np.array([[1],[2],[3],[4]])"
   ]
  },
  {
   "cell_type": "markdown",
   "metadata": {},
   "source": [
    "---"
   ]
  },
  {
   "cell_type": "markdown",
   "metadata": {},
   "source": [
    "### 统计分析\n",
    "\n",
    "#### 读写文件\n",
    "\n",
    "##### 读写二进制文件\n",
    "\n",
    "- save函数是以二进制的格式保存数据：`np.save('filepath',obj)`\n",
    "- load函数是从二进制的文件中读取数据: `np.load('filepath')`\n",
    "- savez函数可以把多个数组保存到一个文件中: `np.savez('filepath',obj1,obj2)"
   ]
  },
  {
   "cell_type": "code",
   "execution_count": 5,
   "metadata": {},
   "outputs": [
    {
     "data": {
      "text/plain": [
       "array([[0.06293226, 0.0272803 , 0.12238883],\n",
       "       [0.60636136, 0.2088013 , 0.28002023],\n",
       "       [0.23651273, 0.45554342, 0.97464954]])"
      ]
     },
     "execution_count": 5,
     "metadata": {},
     "output_type": "execute_result"
    }
   ],
   "source": [
    "import numpy as np\n",
    "a = np.random.random((3,3))\n",
    "np.save('./tmp.npy', a)\n",
    "np.load('./tmp.npy')"
   ]
  },
  {
   "cell_type": "markdown",
   "metadata": {},
   "source": [
    "##### 读写文本格式的数据\n",
    "\n",
    "- savetxt函数是将数组写到某分隔符隔开的文本文件。\n",
    "`np.savetxt('filepath',obj,fmt = \"%d\",delimiter = ',')`\n",
    "\n",
    "- loadtxt函数执行的是把文件加载到一个二维数组中。\n",
    "`np.loadtxt('filepath', delimiter = ',')`\n",
    "\n",
    "- genformtxt函数面向的是结构化数组和缺失数据。\n",
    "`np.genformtxt('filepath',delimiter = ',')`"
   ]
  },
  {
   "cell_type": "markdown",
   "metadata": {},
   "source": [
    "#### 简单统计分析\n",
    "\n",
    "##### 直接排序\n",
    "\n",
    "- sort函数排序,axis = 1横轴 0纵轴。`arr.sort(obj,axis = 0)`\n",
    "\n",
    "##### 间接排序\n",
    "\n",
    "- argsort函数返回值为重新排序值的下标。\n",
    "\n",
    "- lexsort函数返回值是按照最后一个传入数据排序的。\n",
    "\n",
    "##### 去重与重复数据\n",
    "\n",
    "- 通过unique函数可以找出数组中的唯一值并返回已排序的结果。\n",
    "\n",
    "- tile函数用于重复数组，'A'指定重复数组，'reps'指定重复次数。`np.tile(A, reps)`\n",
    "\n",
    "- repeat函数，'A'为重复数组，'repeat'是重复次数，axis = 1表示按列重复。`np.repeat(A, repeat,axis = None)`\n",
    "\n",
    "- `tile`和`repeat`的区别：`tile`是对数组做重复操作，`repeat`是对数组的每个元素做重复操作。"
   ]
  },
  {
   "cell_type": "markdown",
   "metadata": {},
   "source": [
    "#### 常用的统计函数\n",
    "\n",
    "当`axis=0`时，表示沿着纵轴计算，`axis=1`时沿着横轴计算。默认计算一个总值。\n",
    "\n",
    "|函数|说明|\n",
    "|:--:|:--:|\n",
    "|sum|计算数组的和|\n",
    "|mean|计算数组均值|\n",
    "|std|计算数组标准差|\n",
    "|var|计算数组方差|\n",
    "|min|计算数组最小值|\n",
    "|max|计算数组最大值|\n",
    "|argmin|返回数组最小元素索引|\n",
    "|argmax|返回数组最大元素索引|\n",
    "|cumsum|计算所有元素的累计和|\n",
    "|cumprod|计算所有元素的累计积|"
   ]
  },
  {
   "cell_type": "markdown",
   "metadata": {},
   "source": [
    "---"
   ]
  },
  {
   "cell_type": "markdown",
   "metadata": {},
   "source": [
    "## 实现操作\n",
    "\n",
    "读取iris数据集的花萼长度数据，排序、去重、求和、累计和、均值、标准差、方差、最小值、最大值。"
   ]
  },
  {
   "cell_type": "code",
   "execution_count": 16,
   "metadata": {},
   "outputs": [
    {
     "data": {
      "text/plain": [
       "array([4.3, 4.4, 4.5, 4.6, 4.7, 4.8, 4.9, 5. , 5.1, 5.2, 5.3, 5.4, 5.5,\n",
       "       5.6, 5.7, 5.8, 5.9, 6. , 6.1, 6.2, 6.3, 6.4, 6.5, 6.6, 6.7, 6.8,\n",
       "       6.9, 7. , 7.1, 7.2, 7.3, 7.4, 7.6, 7.7, 7.9])"
      ]
     },
     "execution_count": 16,
     "metadata": {},
     "output_type": "execute_result"
    }
   ],
   "source": [
    "import numpy as np\n",
    "\n",
    "\n",
    "data = np.loadtxt('./data/iris_sepal_length.csv')\n",
    "# 排序与去重\n",
    "data.sort()\n",
    "data = np.unique(data)\n",
    "data"
   ]
  },
  {
   "cell_type": "code",
   "execution_count": 18,
   "metadata": {},
   "outputs": [
    {
     "data": {
      "text/plain": [
       "210.39999999999998"
      ]
     },
     "execution_count": 18,
     "metadata": {},
     "output_type": "execute_result"
    }
   ],
   "source": [
    "# 求和\n",
    "np.sum(data)"
   ]
  },
  {
   "cell_type": "code",
   "execution_count": 20,
   "metadata": {},
   "outputs": [
    {
     "data": {
      "text/plain": [
       "array([  4.3,   8.7,  13.2,  17.8,  22.5,  27.3,  32.2,  37.2,  42.3,\n",
       "        47.5,  52.8,  58.2,  63.7,  69.3,  75. ,  80.8,  86.7,  92.7,\n",
       "        98.8, 105. , 111.3, 117.7, 124.2, 130.8, 137.5, 144.3, 151.2,\n",
       "       158.2, 165.3, 172.5, 179.8, 187.2, 194.8, 202.5, 210.4])"
      ]
     },
     "execution_count": 20,
     "metadata": {},
     "output_type": "execute_result"
    }
   ],
   "source": [
    "# 累计和\n",
    "np.cumsum(data)"
   ]
  },
  {
   "cell_type": "code",
   "execution_count": 21,
   "metadata": {},
   "outputs": [
    {
     "data": {
      "text/plain": [
       "6.011428571428571"
      ]
     },
     "execution_count": 21,
     "metadata": {},
     "output_type": "execute_result"
    }
   ],
   "source": [
    "# 均值\n",
    "np.mean(data)"
   ]
  },
  {
   "cell_type": "code",
   "execution_count": 22,
   "metadata": {},
   "outputs": [
    {
     "data": {
      "text/plain": [
       "1.0289443768310533"
      ]
     },
     "execution_count": 22,
     "metadata": {},
     "output_type": "execute_result"
    }
   ],
   "source": [
    "# 标准差\n",
    "np.std(data)"
   ]
  },
  {
   "cell_type": "code",
   "execution_count": 23,
   "metadata": {},
   "outputs": [
    {
     "data": {
      "text/plain": [
       "1.0587265306122449"
      ]
     },
     "execution_count": 23,
     "metadata": {},
     "output_type": "execute_result"
    }
   ],
   "source": [
    "# 方差\n",
    "np.var(data)"
   ]
  },
  {
   "cell_type": "code",
   "execution_count": 24,
   "metadata": {},
   "outputs": [
    {
     "data": {
      "text/plain": [
       "4.3"
      ]
     },
     "execution_count": 24,
     "metadata": {},
     "output_type": "execute_result"
    }
   ],
   "source": [
    "# 最小值\n",
    "np.min(data)"
   ]
  },
  {
   "cell_type": "code",
   "execution_count": 25,
   "metadata": {},
   "outputs": [
    {
     "data": {
      "text/plain": [
       "7.9"
      ]
     },
     "execution_count": 25,
     "metadata": {},
     "output_type": "execute_result"
    }
   ],
   "source": [
    "# 最大值\n",
    "np.max(data)"
   ]
  }
 ],
 "metadata": {
  "kernelspec": {
   "display_name": "Python 3",
   "language": "python",
   "name": "python3"
  },
  "language_info": {
   "codemirror_mode": {
    "name": "ipython",
    "version": 3
   },
   "file_extension": ".py",
   "mimetype": "text/x-python",
   "name": "python",
   "nbconvert_exporter": "python",
   "pygments_lexer": "ipython3",
   "version": "3.7.4"
  }
 },
 "nbformat": 4,
 "nbformat_minor": 4
}
