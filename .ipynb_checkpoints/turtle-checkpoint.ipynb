{
 "cells": [
  {
   "cell_type": "markdown",
   "metadata": {},
   "source": [
    "# Turtle库"
   ]
  },
  {
   "cell_type": "code",
   "execution_count": null,
   "metadata": {},
   "outputs": [],
   "source": [
    "from turtle import *\n",
    "\n",
    "tt = Turtle()\n",
    "\n",
    "# 海龟动作\n",
    "forward(x) # 前进\n",
    "backward(x) # 后退\n",
    "right(x) # 右转（单位角度）\n",
    "left(x) # 左转（单位角度）\n",
    "goto(x,y=None) # 移动到（x，y）\n",
    "setx(x) # 设置x坐标\n",
    "sety(y) # 设置y坐标\n",
    "seth(to_angle) # 设置朝向（0-东 90-北 180-西 270-南）\n",
    "home() # 返回原点，重置朝向\n",
    "circle(radius,extent=None,steps=None) # 画圆，直径radius，圆心在海龟坐标radius个单位，extent角度，steps近似多边形边数\n",
    "dot(size=None,*color) # 直径size的原点，未指定取pensize+4和2*pensize较大值，颜色字符串color\n",
    "stamp() # 当前位置印章，返回stampid\n",
    "clearstamp(stampid) # 清除id值印章\n",
    "undo() # 撤销上一个动作\n",
    "speed(speed=None) # 0-10，0为最快（跳跃），1最慢，10最快\n",
    "\n",
    "#海龟状态\n",
    "position() # 返回当前坐标\n",
    "towards(x,y=None) # 返回夹角，x为数值对或者一个海龟实例\n",
    "xcor() # 返回x坐标\n",
    "ycor() # 返回y坐标\n",
    "heading() # 返回朝向\n",
    "distance(x,y=None) # 返回距离，x为数值对或者一个海龟实例\n",
    "\n",
    "#度量单位设置\n",
    "degrees(fullcircle=360.0) # 设置一个圆周的读数\n",
    "radians() # 设置为弧度，值为 degrees(2*math.pi)\n",
    "\n",
    "#画笔控制\n",
    "pendown() # 画笔落下\n",
    "penup() # 画笔抬起\n",
    "pensize(width=None) # 设置画笔粗细\n",
    "pen() # 返回画笔参数\n",
    "isdown() #判断画笔是否落下，返回bool\n",
    "pencolor(*args) # 返回画笔颜色，可设置颜色，十六进制值，rgb值，字符串"
   ]
  }
 ],
 "metadata": {
  "kernelspec": {
   "display_name": "Python 3",
   "language": "python",
   "name": "python3"
  },
  "language_info": {
   "codemirror_mode": {
    "name": "ipython",
    "version": 3
   },
   "file_extension": ".py",
   "mimetype": "text/x-python",
   "name": "python",
   "nbconvert_exporter": "python",
   "pygments_lexer": "ipython3",
   "version": "3.7.4"
  }
 },
 "nbformat": 4,
 "nbformat_minor": 4
}
